{
  "nbformat": 4,
  "nbformat_minor": 0,
  "metadata": {
    "colab": {
      "provenance": [],
      "toc_visible": true,
      "authorship_tag": "ABX9TyP9GolAhul0BDY2PySSWAgY",
      "include_colab_link": true
    },
    "kernelspec": {
      "name": "python3",
      "display_name": "Python 3"
    },
    "language_info": {
      "name": "python"
    },
    "gpuClass": "standard"
  },
  "cells": [
    {
      "cell_type": "markdown",
      "metadata": {
        "id": "view-in-github",
        "colab_type": "text"
      },
      "source": [
        "<a href=\"https://colab.research.google.com/github/eji58/Financial-Phrase-Bank-/blob/main/Financial_Phrase_Bank_.ipynb\" target=\"_parent\"><img src=\"https://colab.research.google.com/assets/colab-badge.svg\" alt=\"Open In Colab\"/></a>"
      ]
    },
    {
      "cell_type": "markdown",
      "source": [
        "This FinancialPhraseBank dataset contains the sentiments for financial news headlines from the perspective of a retail investor. The dataset contains two columns, \"Sentiment\" and \"News Headline\". The sentiment can be negative, neutral, or positive.\n",
        "\n",
        "[data](https://www.kaggle.com/datasets/ankurzing/sentiment-analysis-for-financial-news)\n",
        "\n",
        "**Main Objective:**\n",
        "\n",
        "The CVS file contains a labeled dataset.\n",
        "\n",
        "Download the dataset and use it for your assignment.\n",
        "\n",
        "Apply the appropriate NLP preprocessing and transformation pipeline.\n",
        "\n",
        "Build a sentiment classifier (using ML).\n",
        "\n",
        "Implement the appropriate evaluation metrics and state your findings.\n",
        "\n",
        "Use the trained model for single inference cases and check the results."
      ],
      "metadata": {
        "id": "6TqRVkVywfhn"
      }
    },
    {
      "cell_type": "markdown",
      "source": [
        "## Import libraries\n"
      ],
      "metadata": {
        "id": "KD4gKOC5wfUF"
      }
    },
    {
      "cell_type": "code",
      "execution_count": null,
      "metadata": {
        "id": "Bpf9RbL6wZyh",
        "colab": {
          "base_uri": "https://localhost:8080/"
        },
        "outputId": "03c8becf-c976-4752-db47-bd8f12b801b3"
      },
      "outputs": [
        {
          "output_type": "stream",
          "name": "stderr",
          "text": [
            "[nltk_data] Downloading package stopwords to /root/nltk_data...\n",
            "[nltk_data]   Package stopwords is already up-to-date!\n"
          ]
        }
      ],
      "source": [
        "#  Importing Libraries\n",
        "\n",
        "import matplotlib.pyplot as plt\n",
        "import pandas as pd\n",
        "import numpy as np\n",
        "import seaborn as sns\n",
        "import os\n",
        "import re\n",
        "import string\n",
        "import sys\n",
        "import nltk\n",
        "from wordcloud import WordCloud, STOPWORDS\n",
        "from PIL import Image\n",
        "\n",
        "from nltk.sentiment.vader import SentimentIntensityAnalyzer\n",
        "from nltk.stem import PorterStemmer\n",
        "from nltk.stem import WordNetLemmatizer \n",
        "from nltk.corpus import stopwords\n",
        "nltk.download('stopwords')\n",
        "\n",
        "from sklearn.feature_extraction.text import CountVectorizer\n",
        "from textblob import TextBlob\n",
        "\n",
        "from keras.preprocessing.text import Tokenizer\n",
        "from keras.utils import pad_sequences\n",
        "\n",
        "\n",
        "import sklearn.preprocessing as pr\n",
        "\n",
        "from sklearn.feature_extraction.text import CountVectorizer\n",
        "\n",
        "from sklearn.metrics import classification_report\n",
        "from sklearn.naive_bayes import MultinomialNB\n",
        "from sklearn.feature_extraction.text import CountVectorizer\n",
        "from collections import Counter\n",
        "from sklearn.model_selection import train_test_split\n",
        "from sklearn.feature_extraction.text import TfidfTransformer\n"
      ]
    },
    {
      "cell_type": "markdown",
      "source": [
        "## Load data"
      ],
      "metadata": {
        "id": "q4Ed-ryjwvKu"
      }
    },
    {
      "cell_type": "code",
      "source": [
        "import pandas as pd\n",
        "url='https://drive.google.com/file/d/1LjZrr3lOKQcH_l7ArpF_CybS2OaDKXjT/view?usp=sharing'\n",
        "url='https://drive.google.com/uc?id=' + url.split('/')[-2]\n",
        "df = pd.read_csv(url,engine=\"python\",encoding=\"ISO-8859-1\")\n",
        "# add columns names\n",
        "df2=pd.DataFrame([[df.keys()[0], df.keys()[1]]], columns=list([df.keys()[0],df.keys()[1]]), index=[4845])\n",
        "df=df.append(df2, ignore_index=True).set_axis(['sentiment', 'news'], axis=1, inplace=False)\n",
        "df"
      ],
      "metadata": {
        "id": "ZM3oPUStwucP",
        "colab": {
          "base_uri": "https://localhost:8080/",
          "height": 424
        },
        "outputId": "161a93c6-4126-4ada-c8db-3fd266c0db63"
      },
      "execution_count": null,
      "outputs": [
        {
          "output_type": "execute_result",
          "data": {
            "text/plain": [
              "     sentiment                                               news\n",
              "0      neutral  Technopolis plans to develop in stages an area...\n",
              "1     negative  The international electronic industry company ...\n",
              "2     positive  With the new production plant the company woul...\n",
              "3     positive  According to the company 's updated strategy f...\n",
              "4     positive  FINANCING OF ASPOCOMP 'S GROWTH Aspocomp is ag...\n",
              "...        ...                                                ...\n",
              "4841   neutral  Rinkuskiai 's beer sales fell by 6.5 per cent ...\n",
              "4842  negative  Operating profit fell to EUR 35.4 mn from EUR ...\n",
              "4843  negative  Net sales of the Paper segment decreased to EU...\n",
              "4844  negative  Sales in Finland decreased by 10.5 % in Januar...\n",
              "4845   neutral  According to Gran , the company has no plans t...\n",
              "\n",
              "[4846 rows x 2 columns]"
            ],
            "text/html": [
              "\n",
              "  <div id=\"df-20458202-2d83-456c-9b3c-107e6ccabcfc\">\n",
              "    <div class=\"colab-df-container\">\n",
              "      <div>\n",
              "<style scoped>\n",
              "    .dataframe tbody tr th:only-of-type {\n",
              "        vertical-align: middle;\n",
              "    }\n",
              "\n",
              "    .dataframe tbody tr th {\n",
              "        vertical-align: top;\n",
              "    }\n",
              "\n",
              "    .dataframe thead th {\n",
              "        text-align: right;\n",
              "    }\n",
              "</style>\n",
              "<table border=\"1\" class=\"dataframe\">\n",
              "  <thead>\n",
              "    <tr style=\"text-align: right;\">\n",
              "      <th></th>\n",
              "      <th>sentiment</th>\n",
              "      <th>news</th>\n",
              "    </tr>\n",
              "  </thead>\n",
              "  <tbody>\n",
              "    <tr>\n",
              "      <th>0</th>\n",
              "      <td>neutral</td>\n",
              "      <td>Technopolis plans to develop in stages an area...</td>\n",
              "    </tr>\n",
              "    <tr>\n",
              "      <th>1</th>\n",
              "      <td>negative</td>\n",
              "      <td>The international electronic industry company ...</td>\n",
              "    </tr>\n",
              "    <tr>\n",
              "      <th>2</th>\n",
              "      <td>positive</td>\n",
              "      <td>With the new production plant the company woul...</td>\n",
              "    </tr>\n",
              "    <tr>\n",
              "      <th>3</th>\n",
              "      <td>positive</td>\n",
              "      <td>According to the company 's updated strategy f...</td>\n",
              "    </tr>\n",
              "    <tr>\n",
              "      <th>4</th>\n",
              "      <td>positive</td>\n",
              "      <td>FINANCING OF ASPOCOMP 'S GROWTH Aspocomp is ag...</td>\n",
              "    </tr>\n",
              "    <tr>\n",
              "      <th>...</th>\n",
              "      <td>...</td>\n",
              "      <td>...</td>\n",
              "    </tr>\n",
              "    <tr>\n",
              "      <th>4841</th>\n",
              "      <td>neutral</td>\n",
              "      <td>Rinkuskiai 's beer sales fell by 6.5 per cent ...</td>\n",
              "    </tr>\n",
              "    <tr>\n",
              "      <th>4842</th>\n",
              "      <td>negative</td>\n",
              "      <td>Operating profit fell to EUR 35.4 mn from EUR ...</td>\n",
              "    </tr>\n",
              "    <tr>\n",
              "      <th>4843</th>\n",
              "      <td>negative</td>\n",
              "      <td>Net sales of the Paper segment decreased to EU...</td>\n",
              "    </tr>\n",
              "    <tr>\n",
              "      <th>4844</th>\n",
              "      <td>negative</td>\n",
              "      <td>Sales in Finland decreased by 10.5 % in Januar...</td>\n",
              "    </tr>\n",
              "    <tr>\n",
              "      <th>4845</th>\n",
              "      <td>neutral</td>\n",
              "      <td>According to Gran , the company has no plans t...</td>\n",
              "    </tr>\n",
              "  </tbody>\n",
              "</table>\n",
              "<p>4846 rows × 2 columns</p>\n",
              "</div>\n",
              "      <button class=\"colab-df-convert\" onclick=\"convertToInteractive('df-20458202-2d83-456c-9b3c-107e6ccabcfc')\"\n",
              "              title=\"Convert this dataframe to an interactive table.\"\n",
              "              style=\"display:none;\">\n",
              "        \n",
              "  <svg xmlns=\"http://www.w3.org/2000/svg\" height=\"24px\"viewBox=\"0 0 24 24\"\n",
              "       width=\"24px\">\n",
              "    <path d=\"M0 0h24v24H0V0z\" fill=\"none\"/>\n",
              "    <path d=\"M18.56 5.44l.94 2.06.94-2.06 2.06-.94-2.06-.94-.94-2.06-.94 2.06-2.06.94zm-11 1L8.5 8.5l.94-2.06 2.06-.94-2.06-.94L8.5 2.5l-.94 2.06-2.06.94zm10 10l.94 2.06.94-2.06 2.06-.94-2.06-.94-.94-2.06-.94 2.06-2.06.94z\"/><path d=\"M17.41 7.96l-1.37-1.37c-.4-.4-.92-.59-1.43-.59-.52 0-1.04.2-1.43.59L10.3 9.45l-7.72 7.72c-.78.78-.78 2.05 0 2.83L4 21.41c.39.39.9.59 1.41.59.51 0 1.02-.2 1.41-.59l7.78-7.78 2.81-2.81c.8-.78.8-2.07 0-2.86zM5.41 20L4 18.59l7.72-7.72 1.47 1.35L5.41 20z\"/>\n",
              "  </svg>\n",
              "      </button>\n",
              "      \n",
              "  <style>\n",
              "    .colab-df-container {\n",
              "      display:flex;\n",
              "      flex-wrap:wrap;\n",
              "      gap: 12px;\n",
              "    }\n",
              "\n",
              "    .colab-df-convert {\n",
              "      background-color: #E8F0FE;\n",
              "      border: none;\n",
              "      border-radius: 50%;\n",
              "      cursor: pointer;\n",
              "      display: none;\n",
              "      fill: #1967D2;\n",
              "      height: 32px;\n",
              "      padding: 0 0 0 0;\n",
              "      width: 32px;\n",
              "    }\n",
              "\n",
              "    .colab-df-convert:hover {\n",
              "      background-color: #E2EBFA;\n",
              "      box-shadow: 0px 1px 2px rgba(60, 64, 67, 0.3), 0px 1px 3px 1px rgba(60, 64, 67, 0.15);\n",
              "      fill: #174EA6;\n",
              "    }\n",
              "\n",
              "    [theme=dark] .colab-df-convert {\n",
              "      background-color: #3B4455;\n",
              "      fill: #D2E3FC;\n",
              "    }\n",
              "\n",
              "    [theme=dark] .colab-df-convert:hover {\n",
              "      background-color: #434B5C;\n",
              "      box-shadow: 0px 1px 3px 1px rgba(0, 0, 0, 0.15);\n",
              "      filter: drop-shadow(0px 1px 2px rgba(0, 0, 0, 0.3));\n",
              "      fill: #FFFFFF;\n",
              "    }\n",
              "  </style>\n",
              "\n",
              "      <script>\n",
              "        const buttonEl =\n",
              "          document.querySelector('#df-20458202-2d83-456c-9b3c-107e6ccabcfc button.colab-df-convert');\n",
              "        buttonEl.style.display =\n",
              "          google.colab.kernel.accessAllowed ? 'block' : 'none';\n",
              "\n",
              "        async function convertToInteractive(key) {\n",
              "          const element = document.querySelector('#df-20458202-2d83-456c-9b3c-107e6ccabcfc');\n",
              "          const dataTable =\n",
              "            await google.colab.kernel.invokeFunction('convertToInteractive',\n",
              "                                                     [key], {});\n",
              "          if (!dataTable) return;\n",
              "\n",
              "          const docLinkHtml = 'Like what you see? Visit the ' +\n",
              "            '<a target=\"_blank\" href=https://colab.research.google.com/notebooks/data_table.ipynb>data table notebook</a>'\n",
              "            + ' to learn more about interactive tables.';\n",
              "          element.innerHTML = '';\n",
              "          dataTable['output_type'] = 'display_data';\n",
              "          await google.colab.output.renderOutput(dataTable, element);\n",
              "          const docLink = document.createElement('div');\n",
              "          docLink.innerHTML = docLinkHtml;\n",
              "          element.appendChild(docLink);\n",
              "        }\n",
              "      </script>\n",
              "    </div>\n",
              "  </div>\n",
              "  "
            ]
          },
          "metadata": {},
          "execution_count": 154
        }
      ]
    },
    {
      "cell_type": "code",
      "source": [
        "df.to_csv(\"news.csv\")"
      ],
      "metadata": {
        "id": "ioED5dlO6ROe"
      },
      "execution_count": null,
      "outputs": []
    },
    {
      "cell_type": "code",
      "source": [
        "# copy data\n",
        "df1=df.copy"
      ],
      "metadata": {
        "id": "1EUV1yWZ5WIP"
      },
      "execution_count": null,
      "outputs": []
    },
    {
      "cell_type": "code",
      "source": [
        "# no. of null values\n",
        "df.isnull().sum()"
      ],
      "metadata": {
        "id": "pDo8UrTEw1oK",
        "colab": {
          "base_uri": "https://localhost:8080/"
        },
        "outputId": "848753be-bb1a-4def-8c6e-afc5f55dcc40"
      },
      "execution_count": null,
      "outputs": [
        {
          "output_type": "execute_result",
          "data": {
            "text/plain": [
              "sentiment    0\n",
              "news         0\n",
              "dtype: int64"
            ]
          },
          "metadata": {},
          "execution_count": 157
        }
      ]
    },
    {
      "cell_type": "code",
      "source": [
        "# No. of lebels\n",
        "df['sentiment'].value_counts()"
      ],
      "metadata": {
        "id": "UMifccnvxKyH",
        "colab": {
          "base_uri": "https://localhost:8080/"
        },
        "outputId": "a2e3d09e-6c80-493d-912b-3947aedbb1f4"
      },
      "execution_count": null,
      "outputs": [
        {
          "output_type": "execute_result",
          "data": {
            "text/plain": [
              "neutral     2879\n",
              "positive    1363\n",
              "negative     604\n",
              "Name: sentiment, dtype: int64"
            ]
          },
          "metadata": {},
          "execution_count": 158
        }
      ]
    },
    {
      "cell_type": "code",
      "source": [
        "sns.countplot(x=\"sentiment\",data=df,palette=\"rainbow\")"
      ],
      "metadata": {
        "id": "YiAE65TtxE0T",
        "colab": {
          "base_uri": "https://localhost:8080/",
          "height": 299
        },
        "outputId": "a1cdbb89-ecba-49c3-e919-98b98da16c17"
      },
      "execution_count": null,
      "outputs": [
        {
          "output_type": "execute_result",
          "data": {
            "text/plain": [
              "<matplotlib.axes._subplots.AxesSubplot at 0x7f463c4ef340>"
            ]
          },
          "metadata": {},
          "execution_count": 159
        },
        {
          "output_type": "display_data",
          "data": {
            "text/plain": [
              "<Figure size 432x288 with 1 Axes>"
            ],
            "image/png": "[encoded data removed]"
          },
          "metadata": {
            "needs_background": "light"
          }
        }
      ]
    },
    {
      "cell_type": "markdown",
      "source": [
        "## Preprocessing"
      ],
      "metadata": {
        "id": "LvJ_YXf4w2Tw"
      }
    },
    {
      "cell_type": "markdown",
      "source": [
        "### **Cleaning** then **StopWord** removing then extract **stemming** words "
      ],
      "metadata": {
        "id": "g2pifJ2HxfrD"
      }
    },
    {
      "cell_type": "code",
      "source": [
        "# cleaning the data from the noisy character \n",
        "\n",
        "def cleaning(text):\n",
        "    # remove non letters or non number\n",
        "    text = re.sub(r\"[^a-zA-Z0-9]\", \" \", text)\n",
        "    # convert to lowercase\n",
        "    text = text.lower()\n",
        "    return text"
      ],
      "metadata": {
        "id": "Kf0m8Czu5KGU"
      },
      "execution_count": null,
      "outputs": []
    },
    {
      "cell_type": "code",
      "source": [
        "def remove_stopwords(text):\n",
        "      # tokenize\n",
        "      words = text.split()\n",
        "      # remove stopwords\n",
        "      words = [w for w in words if w not in stopwords.words(\"english\")]\n",
        "      return words\n"
      ],
      "metadata": {
        "id": "-zqi36a5Gre8"
      },
      "execution_count": null,
      "outputs": []
    },
    {
      "cell_type": "code",
      "source": [
        "def stemming(text):\n",
        "  # apply stemming\n",
        "  words = [PorterStemmer().stem(w) for w in text]\n",
        "  # return list\n",
        "  return words"
      ],
      "metadata": {
        "id": "EV3dOqU6Ltug"
      },
      "execution_count": null,
      "outputs": []
    },
    {
      "cell_type": "code",
      "source": [
        "#  apply all the functions to row-by-row data \n",
        "for i in range(len(df['news'])):\n",
        "  df['news'][i]=cleaning(df['news'][i])\n",
        "  df['news'][i]=remove_stopwords(df['news'][i])\n",
        "  df['news'][i]=stemming(df['news'][i])"
      ],
      "metadata": {
        "id": "oFDrclXWH7Hl"
      },
      "execution_count": null,
      "outputs": []
    },
    {
      "cell_type": "code",
      "source": [
        "print(df['news'][0])"
      ],
      "metadata": {
        "id": "XL8kWlsnOVzi",
        "colab": {
          "base_uri": "https://localhost:8080/"
        },
        "outputId": "edf93ff1-708d-422e-d221-d323be1fba2e"
      },
      "execution_count": null,
      "outputs": [
        {
          "output_type": "stream",
          "name": "stdout",
          "text": [
            "['technopoli', 'plan', 'develop', 'stage', 'area', 'less', '100', '000', 'squar', 'meter', 'order', 'host', 'compani', 'work', 'comput', 'technolog', 'telecommun', 'statement', 'said']\n"
          ]
        }
      ]
    },
    {
      "cell_type": "code",
      "source": [
        "df1"
      ],
      "metadata": {
        "id": "t0_cnjkrPxfc",
        "colab": {
          "base_uri": "https://localhost:8080/"
        },
        "outputId": "e5da73bf-8a42-456e-c08d-28ebab895db9"
      },
      "execution_count": null,
      "outputs": [
        {
          "output_type": "execute_result",
          "data": {
            "text/plain": [
              "<bound method NDFrame.copy of      sentiment                                               news\n",
              "0      neutral  [technopoli, plan, develop, stage, area, less,...\n",
              "1     negative  [intern, electron, industri, compani, elcoteq,...\n",
              "2     positive  [new, product, plant, compani, would, increas,...\n",
              "3     positive  [accord, compani, updat, strategi, year, 2009,...\n",
              "4     positive  [financ, aspocomp, growth, aspocomp, aggress, ...\n",
              "...        ...                                                ...\n",
              "4841   neutral  [rinkuskiai, beer, sale, fell, 6, 5, per, cent...\n",
              "4842  negative  [oper, profit, fell, eur, 35, 4, mn, eur, 68, ...\n",
              "4843  negative  [net, sale, paper, segment, decreas, eur, 221,...\n",
              "4844  negative  [sale, finland, decreas, 10, 5, januari, sale,...\n",
              "4845   neutral  [accord, gran, compani, plan, move, product, r...\n",
              "\n",
              "[4846 rows x 2 columns]>"
            ]
          },
          "metadata": {},
          "execution_count": 165
        }
      ]
    },
    {
      "cell_type": "code",
      "source": [
        "def tokenize_pad_sequences(text):\n",
        "    '''\n",
        "    This function tokenize the input text into sequnences of intergers and then\n",
        "    pad each sequence to the same length\n",
        "    '''\n",
        "    # Text tokenization\n",
        "    tokenizer = Tokenizer(num_words=1500, lower=True, split=' ')\n",
        "    tokenizer.fit_on_texts(text)\n",
        "    # Transforms text to a sequence of integers\n",
        "    News = tokenizer.texts_to_sequences(text)\n",
        "    # Pad sequences to the same length\n",
        "    News = pad_sequences(News, padding='post', maxlen=60)\n",
        "    # return sequences\n",
        "    return News, tokenizer"
      ],
      "metadata": {
        "id": "nKZYQsyO_UgL"
      },
      "execution_count": null,
      "outputs": []
    },
    {
      "cell_type": "code",
      "source": [
        "News, tokenizer =tokenize_pad_sequences(df['news'])\n",
        "News"
      ],
      "metadata": {
        "id": "gFNfdAziR8uG",
        "colab": {
          "base_uri": "https://localhost:8080/"
        },
        "outputId": "d64c6a21-3095-437f-90f8-9d7e0988c8b6"
      },
      "execution_count": null,
      "outputs": [
        {
          "output_type": "execute_result",
          "data": {
            "text/plain": [
              "array([[757,  89,  43, ...,   0,   0,   0],\n",
              "       [223, 152,  58, ...,   0,   0,   0],\n",
              "       [ 28,  20,  65, ...,   0,   0,   0],\n",
              "       ...,\n",
              "       [ 13,   7, 100, ...,   0,   0,   0],\n",
              "       [  7,  14, 116, ...,   0,   0,   0],\n",
              "       [ 74,   2,  89, ...,   0,   0,   0]], dtype=int32)"
            ]
          },
          "metadata": {},
          "execution_count": 175
        }
      ]
    },
    {
      "cell_type": "markdown",
      "source": [
        "### Vectorazing"
      ],
      "metadata": {
        "id": "ckmY7z_yx5Al"
      }
    },
    {
      "cell_type": "code",
      "source": [
        "# Vectorize Data Using CountVectorizer method\n",
        "count_vector = CountVectorizer(max_features=500, preprocessor=lambda x: x,tokenizer=lambda x: x) \n",
        "count_vector"
      ],
      "metadata": {
        "id": "BgdvqfXF9rgk",
        "colab": {
          "base_uri": "https://localhost:8080/"
        },
        "outputId": "3c5fb01e-4ba3-4541-f7ae-2f48feac12e5"
      },
      "execution_count": null,
      "outputs": [
        {
          "output_type": "execute_result",
          "data": {
            "text/plain": [
              "CountVectorizer(max_features=500,\n",
              "                preprocessor=<function <lambda> at 0x7f463bede310>,\n",
              "                tokenizer=<function <lambda> at 0x7f463bede700>)"
            ]
          },
          "metadata": {},
          "execution_count": 176
        }
      ]
    },
    {
      "cell_type": "code",
      "source": [
        "News = count_vector.fit_transform(News).toarray()\n",
        "News"
      ],
      "metadata": {
        "id": "FWaH07L49rR3",
        "colab": {
          "base_uri": "https://localhost:8080/"
        },
        "outputId": "2dd92457-40af-469d-8a3b-bfc2491068e7"
      },
      "execution_count": null,
      "outputs": [
        {
          "output_type": "execute_result",
          "data": {
            "text/plain": [
              "array([[42,  0,  1, ...,  0,  0,  0],\n",
              "       [42,  0,  2, ...,  0,  0,  0],\n",
              "       [40,  0,  1, ...,  0,  0,  0],\n",
              "       ...,\n",
              "       [28,  4,  0, ...,  1,  0,  0],\n",
              "       [49,  0,  0, ...,  0,  0,  0],\n",
              "       [52,  0,  2, ...,  0,  0,  0]])"
            ]
          },
          "metadata": {},
          "execution_count": 177
        }
      ]
    },
    {
      "cell_type": "code",
      "source": [
        "News = pr.normalize(News, axis=1)\n",
        "News"
      ],
      "metadata": {
        "id": "TZVi7nSmRocA",
        "colab": {
          "base_uri": "https://localhost:8080/"
        },
        "outputId": "0a737fc9-469c-448f-9665-53fa5938a157"
      },
      "execution_count": null,
      "outputs": [
        {
          "output_type": "execute_result",
          "data": {
            "text/plain": [
              "array([[0.99717753, 0.        , 0.02374232, ..., 0.        , 0.        ,\n",
              "        0.        ],\n",
              "       [0.99605521, 0.        , 0.0474312 , ..., 0.        , 0.        ,\n",
              "        0.        ],\n",
              "       [0.99136319, 0.        , 0.02478408, ..., 0.        , 0.        ,\n",
              "        0.        ],\n",
              "       ...,\n",
              "       [0.96322928, 0.13760418, 0.        , ..., 0.03440105, 0.        ,\n",
              "        0.        ],\n",
              "       [0.99730374, 0.        , 0.        , ..., 0.        , 0.        ,\n",
              "        0.        ],\n",
              "       [0.998156  , 0.        , 0.03839062, ..., 0.        , 0.        ,\n",
              "        0.        ]])"
            ]
          },
          "metadata": {},
          "execution_count": 178
        }
      ]
    },
    {
      "cell_type": "markdown",
      "source": [
        "## Spliting"
      ],
      "metadata": {
        "id": "MhBiAXZe33QX"
      }
    },
    {
      "cell_type": "code",
      "source": [
        "#splitting the data for training and testing\n",
        "X_train,X_test,y_train,y_test =  train_test_split(News,df['sentiment'],test_size=0.25)"
      ],
      "metadata": {
        "id": "O41NmJqY4B9h"
      },
      "execution_count": null,
      "outputs": []
    },
    {
      "cell_type": "markdown",
      "source": [
        "## Modeling"
      ],
      "metadata": {
        "id": "icKD07oB3Zzp"
      }
    },
    {
      "cell_type": "code",
      "source": [
        "#Initialising Multinomial Naive Bayes\n",
        "model = MultinomialNB()\n",
        "model.fit(X_train,y_train)"
      ],
      "metadata": {
        "id": "HYxM_sHh37Uf",
        "colab": {
          "base_uri": "https://localhost:8080/"
        },
        "outputId": "39ed5b59-12a3-400b-8f08-00695708d35a"
      },
      "execution_count": null,
      "outputs": [
        {
          "output_type": "execute_result",
          "data": {
            "text/plain": [
              "MultinomialNB()"
            ]
          },
          "metadata": {},
          "execution_count": 180
        }
      ]
    },
    {
      "cell_type": "markdown",
      "source": [
        "## Evaluation"
      ],
      "metadata": {
        "id": "Ge0ftqKZ3cUF"
      }
    },
    {
      "cell_type": "code",
      "source": [
        "#predicting the results\n",
        "prediction = model.predict(X_test)\n",
        "print(classification_report(y_test, prediction))"
      ],
      "metadata": {
        "id": "n9YkGr9nTE5L",
        "colab": {
          "base_uri": "https://localhost:8080/"
        },
        "outputId": "3ce44069-0c7c-4572-d3a3-5a910132a028"
      },
      "execution_count": null,
      "outputs": [
        {
          "output_type": "stream",
          "name": "stdout",
          "text": [
            "              precision    recall  f1-score   support\n",
            "\n",
            "    negative       0.00      0.00      0.00       152\n",
            "     neutral       0.60      1.00      0.75       729\n",
            "    positive       0.00      0.00      0.00       331\n",
            "\n",
            "    accuracy                           0.60      1212\n",
            "   macro avg       0.20      0.33      0.25      1212\n",
            "weighted avg       0.36      0.60      0.45      1212\n",
            "\n"
          ]
        },
        {
          "output_type": "stream",
          "name": "stderr",
          "text": [
            "/usr/local/lib/python3.8/dist-packages/sklearn/metrics/_classification.py:1318: UndefinedMetricWarning: Precision and F-score are ill-defined and being set to 0.0 in labels with no predicted samples. Use `zero_division` parameter to control this behavior.\n",
            "  _warn_prf(average, modifier, msg_start, len(result))\n",
            "/usr/local/lib/python3.8/dist-packages/sklearn/metrics/_classification.py:1318: UndefinedMetricWarning: Precision and F-score are ill-defined and being set to 0.0 in labels with no predicted samples. Use `zero_division` parameter to control this behavior.\n",
            "  _warn_prf(average, modifier, msg_start, len(result))\n",
            "/usr/local/lib/python3.8/dist-packages/sklearn/metrics/_classification.py:1318: UndefinedMetricWarning: Precision and F-score are ill-defined and being set to 0.0 in labels with no predicted samples. Use `zero_division` parameter to control this behavior.\n",
            "  _warn_prf(average, modifier, msg_start, len(result))\n"
          ]
        }
      ]
    }
  ]
}